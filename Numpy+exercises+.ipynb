{
 "cells": [
  {
   "cell_type": "code",
   "execution_count": 17,
   "metadata": {},
   "outputs": [
    {
     "name": "stdout",
     "output_type": "stream",
     "text": [
      "[1 3 5 7 9]\n",
      "Index\tElement\n",
      "0 \t 1\n",
      "1 \t 3\n",
      "2 \t 5\n",
      "3 \t 7\n",
      "4 \t 9\n"
     ]
    }
   ],
   "source": [
    " #Q1 Write a Python program to create an array of 5 integers and display the array items. \n",
    "    # Access individual element through indexes\n",
    "\n",
    "import numpy as np\n",
    "array1 = np.array([1,3,5,7,9])\n",
    "print(array1)\n",
    "print(\"Index\\tElement\")\n",
    "for i in range(len(array1)):\n",
    "    print(i, \"\\t\",array1[i])"
   ]
  },
  {
   "cell_type": "code",
   "execution_count": 76,
   "metadata": {},
   "outputs": [
    {
     "name": "stdout",
     "output_type": "stream",
     "text": [
      "Original array: [1 3 5 7 9]\n",
      "Reversed array: [9 7 5 3 1]\n",
      "[[1 2]\n",
      " [3 4]]\n",
      "[[3 4]\n",
      " [1 2]]\n",
      "[[2 1]\n",
      " [4 3]]\n",
      "[[2 1]\n",
      " [4 3]]\n",
      "[[3 4]\n",
      " [1 2]]\n"
     ]
    }
   ],
   "source": [
    "#Q2 Write a Python program to reverse the order of the items in the array\n",
    "array2 = np.flip(array1, None)\n",
    "print(\"Original array:\", array1)\n",
    "print(\"Reversed array:\", array2)\n",
    "\n",
    "\n",
    "array3 = np.array([[1,2],[3,4]])\n",
    "print(array3)\n",
    "array4 = np.flip(array3,0)\n",
    "print(array4)\n",
    "array5 = np.flip(array3,1)\n",
    "print(array5)\n",
    "array6 = np.flip(array3,-1)\n",
    "print(array6)\n",
    "array7 = np.flip(array3,-2)\n",
    "print(array7)\n"
   ]
  },
  {
   "cell_type": "code",
   "execution_count": 77,
   "metadata": {},
   "outputs": [
    {
     "name": "stdout",
     "output_type": "stream",
     "text": [
      "[[1 2]\n",
      " [3 4]\n",
      " [2 4]\n",
      " [6 8]]\n",
      "Shape: (4, 2)\n",
      "NDim: 2\n",
      "Element\tSize (Byte)\n",
      "1 \t 8\n",
      "2 \t 8\n",
      "3 \t 8\n",
      "4 \t 8\n",
      "2 \t 8\n",
      "4 \t 8\n",
      "6 \t 8\n",
      "8 \t 8\n"
     ]
    }
   ],
   "source": [
    "#Q3 Create a 4X2 integer array and Prints its attributes \n",
    "#The shape of an array.\n",
    "#Array dimensions.\n",
    "#The Length of each element of the array in bytes.\n",
    "\n",
    "array8 = np.array([[1,2],[3,4],[2,4],[6,8]])\n",
    "print(array8)\n",
    "print(\"Shape:\", array8.shape)\n",
    "print(\"NDim:\", array8.ndim)\n",
    "print(\"Element\\tSize (Byte)\")\n",
    "for i in range(array8.shape[0]):\n",
    "    for j in range(array8.shape[1]):\n",
    "        print(array8[i][j], \"\\t\", array8[i][j].itemsize)"
   ]
  },
  {
   "cell_type": "code",
   "execution_count": 78,
   "metadata": {},
   "outputs": [
    {
     "name": "stdout",
     "output_type": "stream",
     "text": [
      "[[11 22 33]\n",
      " [44 55 66]\n",
      " [77 88 99]]\n",
      "33\n",
      "66\n",
      "99\n",
      "[33 66 99]\n",
      "[33 66 99]\n"
     ]
    }
   ],
   "source": [
    "#Q4 return array of items in the third column from all rows in the following numpy array\n",
    "# ([[11 ,22, 33], [44, 55, 66], [77, 88, 99]])\n",
    "array9 = np.array([[11 ,22, 33], [44, 55, 66], [77, 88, 99]])\n",
    "print(array9)\n",
    "for i in range(array9.shape[0]):\n",
    "    print(array9[i][2])\n",
    "\n",
    "\n",
    "\n",
    "print(array9[:,2])\n",
    "print(array9[...,2])"
   ]
  },
  {
   "cell_type": "code",
   "execution_count": 79,
   "metadata": {},
   "outputs": [
    {
     "name": "stdout",
     "output_type": "stream",
     "text": [
      "[[20 39 33]\n",
      " [25 25 28]]\n",
      "[[20 39 33]\n",
      " [25 25 28]]\n"
     ]
    }
   ],
   "source": [
    "#Q5 Create a result array by adding the following two NumPy arrays\n",
    "# arrayOne = numpy.array([[5, 6, 9], [21 ,18, 27]])\n",
    "# arrayTwo = numpy.array([[15 ,33, 24], [4 ,7, 1]])\n",
    "\n",
    "arrayOne = np.array([[5, 6, 9], [21 ,18, 27]])\n",
    "arrayTwo = np.array([[15 ,33, 24], [4 ,7, 1]])\n",
    "\n",
    "arrayThree = arrayOne + arrayTwo\n",
    "print(arrayThree)\n",
    "\n",
    "\n",
    "\n",
    "arrayFive = np.add(arrayOne, arrayTwo)\n",
    "print(arrayFive)"
   ]
  },
  {
   "cell_type": "code",
   "execution_count": 80,
   "metadata": {},
   "outputs": [
    {
     "name": "stdout",
     "output_type": "stream",
     "text": [
      "[[20 33 39]\n",
      " [25 25 28]]\n"
     ]
    }
   ],
   "source": [
    "#Q6 Sort the previous array\n",
    "arrayFour = np.sort(arrayThree)\n",
    "print(arrayFour)"
   ]
  },
  {
   "cell_type": "code",
   "execution_count": null,
   "metadata": {},
   "outputs": [],
   "source": []
  }
 ],
 "metadata": {
  "kernelspec": {
   "display_name": "Python 3",
   "language": "python",
   "name": "python3"
  },
  "language_info": {
   "codemirror_mode": {
    "name": "ipython",
    "version": 3
   },
   "file_extension": ".py",
   "mimetype": "text/x-python",
   "name": "python",
   "nbconvert_exporter": "python",
   "pygments_lexer": "ipython3",
   "version": "3.8.5"
  }
 },
 "nbformat": 4,
 "nbformat_minor": 4
}
