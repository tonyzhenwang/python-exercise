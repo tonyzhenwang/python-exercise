{
 "cells": [
  {
   "cell_type": "code",
   "execution_count": 84,
   "metadata": {},
   "outputs": [
    {
     "name": "stdout",
     "output_type": "stream",
     "text": [
      "{'L': ('Leul',), 'S': ('Suha', 'Saman', 'Sunint', 'Sidney', 'Sowjanya', 'Saloni', 'Santhiya'), 'M': ('Muhammad', 'Mehrnaz'), 'O': ('Olaolusubomi',), 'D': ('Dami', 'Divya'), 'E': ('Edward',), 'I': ('Imara',), 'G': ('Gaurav', 'Gilmara'), 'C': ('Chloe',), 'R': ('Rasha', 'Riley', 'Romita'), 'J': ('Jerry', 'Jainam'), 'W': ('Winnie',), 'A': ('Akash', 'Adam', 'Ajinkya', 'Alka'), 'T': ('Temitope', 'Tony'), 'U': ('Ulan',), 'P': ('Pray',)}\n"
     ]
    }
   ],
   "source": [
    "#Q1 Create a dictionary for all participants in the JDA program.\n",
    "#Keys should be the first letter in their names, Values should be their names.\n",
    "#[Hint] dic={\"l\":(Leul),\"J\":(Jerry,Jainam)........}\n",
    "tup1 = ('Leul', 'Suha', 'Muhammad', 'Olaolusubomi', 'Saman', \n",
    "        'Sunint', 'Dami', 'Edward', 'Divya', 'Imara', 'Gaurav', \n",
    "        'Sidney', 'Chloe', 'Rasha', 'Mehrnaz', 'Sowjanya', \n",
    "        'Jerry', 'Winnie', 'Saloni', 'Akash', 'Adam', 'Temitope', \n",
    "        'Ajinkya', 'Riley', 'Santhiya', 'Romita', 'Gilmara', \n",
    "        'Ulan', 'Alka', 'Jainam', 'Pray', 'Tony')\n",
    "dic = {}\n",
    "for var in tup1:\n",
    "    firstLetter = var[0:1]\n",
    "    if(firstLetter in dic):\n",
    "        dic[firstLetter] = dic[firstLetter] + (var,)\n",
    "    else:\n",
    "        dic[firstLetter] = (var,)\n",
    "print(dic)"
   ]
  },
  {
   "cell_type": "code",
   "execution_count": 85,
   "metadata": {},
   "outputs": [
    {
     "name": "stdout",
     "output_type": "stream",
     "text": [
      "Dictionary keys are:  dict_keys(['L', 'S', 'M', 'O', 'D', 'E', 'I', 'G', 'C', 'R', 'J', 'W', 'A', 'T', 'U', 'P'])\n"
     ]
    }
   ],
   "source": [
    "#Q2 What are the keys of your dictionary\n",
    "keys = dic.keys()\n",
    "print(\"Dictionary keys are: \", keys)"
   ]
  },
  {
   "cell_type": "code",
   "execution_count": 86,
   "metadata": {},
   "outputs": [
    {
     "name": "stdout",
     "output_type": "stream",
     "text": [
      "Dictionary values are:  dict_values([('Leul',), ('Suha', 'Saman', 'Sunint', 'Sidney', 'Sowjanya', 'Saloni', 'Santhiya'), ('Muhammad', 'Mehrnaz'), ('Olaolusubomi',), ('Dami', 'Divya'), ('Edward',), ('Imara',), ('Gaurav', 'Gilmara'), ('Chloe',), ('Rasha', 'Riley', 'Romita'), ('Jerry', 'Jainam'), ('Winnie',), ('Akash', 'Adam', 'Ajinkya', 'Alka'), ('Temitope', 'Tony'), ('Ulan',), ('Pray',)])\n"
     ]
    }
   ],
   "source": [
    "#Q3 What are the values of your dictionary\n",
    "values = dic.values()\n",
    "print(\"Dictionary values are: \", values)"
   ]
  },
  {
   "cell_type": "code",
   "execution_count": 87,
   "metadata": {},
   "outputs": [
    {
     "name": "stdout",
     "output_type": "stream",
     "text": [
      "Participants' with initial J :  ('Jerry', 'Jainam')\n",
      "Participants' with initial I :  ('Imara',)\n",
      "Participants' with initial M :  ('Muhammad', 'Mehrnaz')\n",
      "Participants' with initial C :  ('Chloe',)\n",
      "Participants' with initial A :  ('Akash', 'Adam', 'Ajinkya', 'Alka')\n"
     ]
    }
   ],
   "source": [
    "#Q4 Find participant's names that start with J,I,M,C,A\n",
    "lst = [\"J\",\"I\",\"M\",\"C\",\"A\"]\n",
    "for elem in lst:\n",
    "    print(\"Participants' with initial\", elem, \": \", dic[elem])"
   ]
  },
  {
   "cell_type": "code",
   "execution_count": 88,
   "metadata": {},
   "outputs": [
    {
     "name": "stdout",
     "output_type": "stream",
     "text": [
      "{'L': ('Leul',), 'S': ('Suha', 'Saman', 'Sunint', 'Sidney', 'Sowjanya', 'Saloni', 'Santhiya'), 'M': ('Muhammad', 'Mehrnaz'), 'O': ('Olaolusubomi',), 'D': ('Dami', 'Divya'), 'E': ('Edward',), 'I': ('Imara',), 'G': ('Gaurav', 'Gilmara'), 'C': ('Chloe',), 'R': ('Rasha', 'Riley', 'Romita'), 'J': ('Jerry', 'Jainam'), 'W': ('Winnie',), 'A': ('Akash', 'Adam', 'Ajinkya', 'Alka'), 'T': ('Temitope', 'Tony'), 'U': ('Ulan',), 'P': ('Pray',), ('K', 'PD'): ('Kristina',)}\n"
     ]
    }
   ],
   "source": [
    "#Q5 Add the following to your dictionary \n",
    "# Key<(K,PD), Value(Kristina)\n",
    "key1 = (\"K\", \"PD\")\n",
    "if(key1 not in dic):\n",
    "    dic[key1] = (\"Kristina\",)\n",
    "else:\n",
    "    if(\"Kristina\" not in dic[key1]):\n",
    "        dic[key1] = dic[key1] + (\"Kristina\",)\n",
    "print(dic)"
   ]
  },
  {
   "cell_type": "code",
   "execution_count": 89,
   "metadata": {},
   "outputs": [
    {
     "name": "stdout",
     "output_type": "stream",
     "text": [
      "Length of dictionary: 17\n"
     ]
    }
   ],
   "source": [
    "#Q6 Find the length of your dictionary  \n",
    "print(\"Length of dictionary:\", len(dic))"
   ]
  },
  {
   "cell_type": "code",
   "execution_count": 90,
   "metadata": {},
   "outputs": [
    {
     "name": "stdout",
     "output_type": "stream",
     "text": [
      "{'L': ('Leul',), 'S': ('Suha', 'Saman', 'Sunint', 'Sidney', 'Sowjanya', 'Saloni', 'Santhiya'), 'M': ('Muhammad', 'Mehrnaz'), 'O': ('Olaolusubomi',), 'D': ('Dami', 'Divya'), 'E': ('Edward',), 'I': ('Imara',), 'G': ('Gaurav', 'Gilmara'), 'C': ('Chloe',), 'R': ('Rasha', 'Riley', 'Romita'), 'J': ('Jerry', 'Jainam'), 'W': ('Winnie',), 'A': ('Akash', 'Adam', 'Ajinkya', 'Alka'), 'T': ('Temitope', 'Tony'), 'U': ('Ulan',), 'P': ('Pray',), ('K', 'PD'): ('Kristina',), ('S', 'Instructor'): ('Sarah',)}\n"
     ]
    }
   ],
   "source": [
    "#Q7 Add the following to your dictionary \n",
    "# Key<(S,Instructor), Value(Sarah)\n",
    "key2 = (\"S\", \"Instructor\")\n",
    "if(key2 not in dic):\n",
    "    dic[key2] = (\"Sarah\",)\n",
    "print(dic)"
   ]
  },
  {
   "cell_type": "code",
   "execution_count": 91,
   "metadata": {},
   "outputs": [
    {
     "name": "stdout",
     "output_type": "stream",
     "text": [
      "Length of dictionary: 18\n"
     ]
    }
   ],
   "source": [
    "#Q8 Find the length of your dictionary  \n",
    "print(\"Length of dictionary:\", len(dic))"
   ]
  },
  {
   "cell_type": "code",
   "execution_count": 92,
   "metadata": {},
   "outputs": [
    {
     "name": "stdout",
     "output_type": "stream",
     "text": [
      "{'L': ('Leul',), 'S': ('Suha', 'Saman', 'Sunint', 'Sidney', 'Sowjanya', 'Saloni', 'Santhiya'), 'M': ('Muhammad', 'Mehrnaz'), 'O': ('Olaolusubomi',), 'D': ('Dami', 'Divya'), 'E': ('Edward',), 'I': ('Imara',), 'G': ('Gaurav', 'Gilmara'), 'C': ('Chloe',), 'R': ('Rasha', 'Riley', 'Romita'), 'W': ('Winnie',), 'A': ('Akash', 'Adam', 'Ajinkya', 'Alka'), 'T': ('Temitope', 'Tony'), 'U': ('Ulan',), 'P': ('Pray',), ('K', 'PD'): ('Kristina',)}\n"
     ]
    }
   ],
   "source": [
    "#Q7 Delete the following keys from your dictionary \n",
    "#Key<(S,Instructor)\n",
    "#Key<J>\n",
    "del dic[(\"S\", \"Instructor\")]\n",
    "del(dic[\"J\"])\n",
    "print(dic)"
   ]
  },
  {
   "cell_type": "code",
   "execution_count": 93,
   "metadata": {},
   "outputs": [
    {
     "name": "stdout",
     "output_type": "stream",
     "text": [
      "Length of dictionary: 16\n"
     ]
    }
   ],
   "source": [
    "#Q9 Find the length of your dictionary  \n",
    "print(\"Length of dictionary:\", len(dic))"
   ]
  },
  {
   "cell_type": "code",
   "execution_count": 94,
   "metadata": {},
   "outputs": [
    {
     "name": "stdout",
     "output_type": "stream",
     "text": [
      "<class 'dict'>\n"
     ]
    }
   ],
   "source": [
    "#Q10 Create a new dictionary called synonyms_dic\n",
    "synonyms_dic = {}\n",
    "print(type(synonyms_dic))"
   ]
  },
  {
   "cell_type": "code",
   "execution_count": 95,
   "metadata": {},
   "outputs": [
    {
     "name": "stdout",
     "output_type": "stream",
     "text": [
      "{'Bad': ('Atrocious', 'Aweful'), 'Good': ('Acceptable', 'Excellent'), 'Awesome': ('Alarming', 'Astonishing'), 'Cold': ('Bitter', 'Bleak'), 'Easy': ('Accessible', 'Clear'), 'Hard': ('Solid', 'Strong'), 'Big': ('Colossal', 'Considerable'), 'Small': ('Cramped', 'Limited')}\n"
     ]
    }
   ],
   "source": [
    "#Q11 Add the synonyms of the following words to your dictionary \n",
    "#Bad, Good, Awesome, Cold, Easy, Hard, Big, Small\n",
    "synonyms_dic[\"Bad\"] = (\"Atrocious\", \"Aweful\")\n",
    "synonyms_dic[\"Good\"] = (\"Acceptable\",\"Excellent\")\n",
    "synonyms_dic[\"Awesome\"] = (\"Alarming\", \"Astonishing\")\n",
    "synonyms_dic[\"Cold\"] = (\"Bitter\", \"Bleak\")\n",
    "synonyms_dic[\"Easy\"] = (\"Accessible\", \"Clear\")\n",
    "synonyms_dic[\"Hard\"] = (\"Solid\", \"Strong\")\n",
    "synonyms_dic[\"Big\"] = (\"Colossal\", \"Considerable\")\n",
    "synonyms_dic[\"Small\"] = (\"Cramped\", \"Limited\")\n",
    "print(synonyms_dic)"
   ]
  },
  {
   "cell_type": "code",
   "execution_count": 96,
   "metadata": {},
   "outputs": [
    {
     "name": "stdout",
     "output_type": "stream",
     "text": [
      "Synonym of Awesome are ('Alarming', 'Astonishing')\n",
      "Synonym of Easy are ('Accessible', 'Clear')\n",
      "Synonym of Small are ('Cramped', 'Limited')\n",
      "Old is not in the dictionary\n"
     ]
    }
   ],
   "source": [
    "#Q12 Use your dictionary to find the synonym of the following words \n",
    "# Awesome, Easy, Small, Old\n",
    "string = \"Awesome, Easy, Small, Old\"\n",
    "list2 = string.split(\", \")\n",
    "for word in list2:\n",
    "    if(word in synonyms_dic):\n",
    "        print(\"Synonym of\", word, \"are\", synonyms_dic[word])\n",
    "    else:\n",
    "        print(word, \"is not in the dictionary\")"
   ]
  },
  {
   "cell_type": "code",
   "execution_count": 97,
   "metadata": {},
   "outputs": [
    {
     "name": "stdout",
     "output_type": "stream",
     "text": [
      "{}\n"
     ]
    }
   ],
   "source": [
    "#Q13 Delete everything from synonyms_dic\n",
    "synonyms_dic.clear()\n",
    "print(synonyms_dic)"
   ]
  },
  {
   "cell_type": "code",
   "execution_count": 98,
   "metadata": {},
   "outputs": [
    {
     "name": "stdout",
     "output_type": "stream",
     "text": [
      "dict_values([])\n"
     ]
    }
   ],
   "source": [
    "#Q14 Print all values in synonyms_dic\n",
    "print(synonyms_dic.values())"
   ]
  },
  {
   "cell_type": "code",
   "execution_count": 99,
   "metadata": {},
   "outputs": [
    {
     "name": "stdout",
     "output_type": "stream",
     "text": [
      "{'True': 1, 'False': 0}\n"
     ]
    }
   ],
   "source": [
    "#Q15 Convert the below two lists into dictionary\n",
    "Keys=[\"True\",\"False\"]\n",
    "Values=[1,0]\n",
    "dicBool = {}\n",
    "if(len(Keys) == len(Values)):\n",
    "    index = 0\n",
    "    while index < len(Keys):\n",
    "        dicBool[Keys[index]] = Values[index]\n",
    "        index = index + 1\n",
    "print(dicBool)"
   ]
  },
  {
   "cell_type": "code",
   "execution_count": 100,
   "metadata": {},
   "outputs": [
    {
     "name": "stdout",
     "output_type": "stream",
     "text": [
      "The sum of income is: 4480\n"
     ]
    }
   ],
   "source": [
    "#Q16 Sum all the items in the following dictionary\n",
    "income={'Jan':1000,'Feb':1500,'Mar':980,'April':1000}\n",
    "incomeList = list(income.values())\n",
    "sum = 0\n",
    "for i in incomeList:\n",
    "    sum = sum+i\n",
    "print(\"The sum of income is:\",sum)"
   ]
  },
  {
   "cell_type": "code",
   "execution_count": 101,
   "metadata": {},
   "outputs": [
    {
     "name": "stdout",
     "output_type": "stream",
     "text": [
      "['110', '101', '10', '1011', '110', '1001', '111', '1101']\n",
      "Code: 110 101 10 1011 110 1001 111 1101\n",
      "Message: I am hungry , I want to eat \n"
     ]
    }
   ],
   "source": [
    "#Q17 Create the following dictionary encryption={10:\"hungry\", 101:\"am\", 110:\"I\", 1011:\",\" ,1101:\"eat\", 1001:\"want\", 111:\"to\"}\n",
    "# What should the the decryption of the following code \"110 101 10 1011 110 1001 111 1101\"\n",
    "encryption={10:\"hungry\", 101:\"am\", 110:\"I\", 1011:\",\" ,1101:\"eat\", 1001:\"want\", 111:\"to\"}\n",
    "code = \"110 101 10 1011 110 1001 111 1101\"\n",
    "delimiter = \" \"\n",
    "codeList = code.split(delimiter)\n",
    "print(codeList)\n",
    "message = \"\"\n",
    "for c in codeList:\n",
    "    message = message + encryption[int(c)] + delimiter\n",
    "print(\"Code:\", code)\n",
    "print(\"Message:\", message)\n",
    "\n",
    "\n",
    "\n",
    "\n",
    "\n",
    "\n",
    "\n",
    "\n",
    "\n",
    "\n",
    "\n",
    "\n",
    "\n",
    "\n",
    "\n",
    "\n"
   ]
  },
  {
   "cell_type": "code",
   "execution_count": null,
   "metadata": {},
   "outputs": [],
   "source": []
  }
 ],
 "metadata": {
  "kernelspec": {
   "display_name": "Python 3",
   "language": "python",
   "name": "python3"
  },
  "language_info": {
   "codemirror_mode": {
    "name": "ipython",
    "version": 3
   },
   "file_extension": ".py",
   "mimetype": "text/x-python",
   "name": "python",
   "nbconvert_exporter": "python",
   "pygments_lexer": "ipython3",
   "version": "3.8.5"
  }
 },
 "nbformat": 4,
 "nbformat_minor": 4
}
