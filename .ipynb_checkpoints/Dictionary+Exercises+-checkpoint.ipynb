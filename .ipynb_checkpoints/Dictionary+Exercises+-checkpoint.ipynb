{
 "cells": [
  {
   "cell_type": "code",
   "execution_count": 6,
   "metadata": {},
   "outputs": [
    {
     "name": "stdout",
     "output_type": "stream",
     "text": [
      "{'L': ('Leul',), 'S': ('Suha', 'Saman', 'Sunint', 'Sidney', 'Sowjanya', 'Saloni', 'Santhiya'), 'M': ('Muhammad', 'Mehrnaz'), 'O': ('Olaolusubomi',), 'D': ('Dami', 'Divya'), 'E': ('Edward',), 'I': ('Imara',), 'G': ('Gaurav', 'Gilmara'), 'C': ('Chloe',), 'R': ('Rasha', 'Riley', 'Romita'), 'J': ('Jerry', 'Jainam'), 'W': ('Winnie',), 'A': ('Akash', 'Adam', 'Ajinkya', 'Alka'), 'T': ('Temitope', 'Tony'), 'U': ('Ulan',), 'P': ('Pray',)}\n"
     ]
    }
   ],
   "source": [
    "#Q1 Create a dictionary for all participants in the JDA program.\n",
    "#Keys should be the first letter in their names, Values should be their names.\n",
    "#[Hint] dic={\"l\":(Leul),\"J\":(Jerry,Jainam)........}\n",
    "tup1 = ('Leul', 'Suha', 'Muhammad', 'Olaolusubomi', 'Saman', \n",
    "        'Sunint', 'Dami', 'Edward', 'Divya', 'Imara', 'Gaurav', \n",
    "        'Sidney', 'Chloe', 'Rasha', 'Mehrnaz', 'Sowjanya', \n",
    "        'Jerry', 'Winnie', 'Saloni', 'Akash', 'Adam', 'Temitope', \n",
    "        'Ajinkya', 'Riley', 'Santhiya', 'Romita', 'Gilmara', \n",
    "        'Ulan', 'Alka', 'Jainam', 'Pray', 'Tony')\n",
    "dic = {}\n",
    "for var in tup1:\n",
    "    firstLetter = var[0:1]\n",
    "    if(firstLetter in dic):\n",
    "        dic[firstLetter] = dic[firstLetter] + (var,)\n",
    "    else:\n",
    "        dic[firstLetter] = (var,)\n",
    "print(dic)"
   ]
  },
  {
   "cell_type": "code",
   "execution_count": 7,
   "metadata": {},
   "outputs": [
    {
     "name": "stdout",
     "output_type": "stream",
     "text": [
      "Dictionary keys are:  dict_keys(['L', 'S', 'M', 'O', 'D', 'E', 'I', 'G', 'C', 'R', 'J', 'W', 'A', 'T', 'U', 'P'])\n"
     ]
    }
   ],
   "source": [
    "#Q2 What are the keys of your dictionary\n",
    "keys = dic.keys()\n",
    "print(\"Dictionary keys are: \", keys)"
   ]
  },
  {
   "cell_type": "code",
   "execution_count": 12,
   "metadata": {},
   "outputs": [
    {
     "name": "stdout",
     "output_type": "stream",
     "text": [
      "Dictionary values are:  dict_values([('Leul',), ('Suha', 'Saman', 'Sunint', 'Sidney', 'Sowjanya', 'Saloni', 'Santhiya'), ('Muhammad', 'Mehrnaz'), ('Olaolusubomi',), ('Dami', 'Divya'), ('Edward',), ('Imara',), ('Gaurav', 'Gilmara'), ('Chloe',), ('Rasha', 'Riley', 'Romita'), ('Jerry', 'Jainam'), ('Winnie',), ('Akash', 'Adam', 'Ajinkya', 'Alka'), ('Temitope', 'Tony'), ('Ulan',), ('Pray',)])\n"
     ]
    }
   ],
   "source": [
    "#Q3 What are the values of your dictionary\n",
    "values = dic.values()\n",
    "print(\"Dictionary values are: \", values)"
   ]
  },
  {
   "cell_type": "code",
   "execution_count": 16,
   "metadata": {},
   "outputs": [
    {
     "name": "stdout",
     "output_type": "stream",
     "text": [
      "Participants' with initial J :  ('Jerry', 'Jainam')\n",
      "Participants' with initial I :  ('Imara',)\n",
      "Participants' with initial M :  ('Muhammad', 'Mehrnaz')\n",
      "Participants' with initial C :  ('Chloe',)\n",
      "Participants' with initial A :  ('Akash', 'Adam', 'Ajinkya', 'Alka')\n"
     ]
    }
   ],
   "source": [
    "#Q4 Find participant's names that start with J,I,M,C,A\n",
    "lst = [\"J\",\"I\",\"M\",\"C\",\"A\"]\n",
    "for elem in lst:\n",
    "    print(\"Participants' with initial\", elem, \": \", dic[elem])"
   ]
  },
  {
   "cell_type": "code",
   "execution_count": 18,
   "metadata": {},
   "outputs": [
    {
     "name": "stdout",
     "output_type": "stream",
     "text": [
      "{'L': ('Leul',), 'S': ('Suha', 'Saman', 'Sunint', 'Sidney', 'Sowjanya', 'Saloni', 'Santhiya'), 'M': ('Muhammad', 'Mehrnaz'), 'O': ('Olaolusubomi',), 'D': ('Dami', 'Divya'), 'E': ('Edward',), 'I': ('Imara',), 'G': ('Gaurav', 'Gilmara'), 'C': ('Chloe',), 'R': ('Rasha', 'Riley', 'Romita'), 'J': ('Jerry', 'Jainam'), 'W': ('Winnie',), 'A': ('Akash', 'Adam', 'Ajinkya', 'Alka'), 'T': ('Temitope', 'Tony'), 'U': ('Ulan',), 'P': ('Pray',), 'K': ('Kristina',)}\n"
     ]
    }
   ],
   "source": [
    "#Q5 Add the following to your dictionary \n",
    "# Key<(K,PD), Value(Kristina)\n",
    "if(\"K\" in dic):\n",
    "    if(\"Kristina\" not in dic):\n",
    "        dic[\"K\"] = dic[\"K\"] + (\"Kristina\",)\n",
    "else:\n",
    "    dic[\"K\"] = (\"Kristina\",)\n",
    "print(dic)"
   ]
  },
  {
   "cell_type": "code",
   "execution_count": 22,
   "metadata": {},
   "outputs": [
    {
     "name": "stdout",
     "output_type": "stream",
     "text": [
      "Length of dictionary: 17\n"
     ]
    }
   ],
   "source": [
    "#Q6 Find the length of your dictionary  \n",
    "print(\"Length of dictionary:\", len(dic))"
   ]
  },
  {
   "cell_type": "code",
   "execution_count": null,
   "metadata": {},
   "outputs": [],
   "source": [
    "#Q7 Add the following to your dictionary \n",
    "# Key<(S,Instructor), Value(Sarah)"
   ]
  },
  {
   "cell_type": "code",
   "execution_count": null,
   "metadata": {},
   "outputs": [],
   "source": [
    "#Q8 Find the length of your dictionary  "
   ]
  },
  {
   "cell_type": "code",
   "execution_count": null,
   "metadata": {},
   "outputs": [],
   "source": [
    "#Q7 Delete the following keys from your dictionary \n",
    "#Key<(S,Instructor)\n",
    "#Key<J>"
   ]
  },
  {
   "cell_type": "code",
   "execution_count": null,
   "metadata": {},
   "outputs": [],
   "source": [
    "#Q9 Find the length of your dictionary  "
   ]
  },
  {
   "cell_type": "code",
   "execution_count": null,
   "metadata": {},
   "outputs": [],
   "source": [
    "#Q10 Create a new dictionary called synonyms_dic"
   ]
  },
  {
   "cell_type": "code",
   "execution_count": null,
   "metadata": {},
   "outputs": [],
   "source": [
    "#Q11 Add the synonyms of the following words to your dictionary \n",
    "#Bad, Good, Awesome, Cold, Easy, Hard, Big, Small"
   ]
  },
  {
   "cell_type": "code",
   "execution_count": null,
   "metadata": {},
   "outputs": [],
   "source": [
    "#Q12 Use your dictionary to find the synonym of the following words \n",
    "# Awesome, Easy, Small, Old"
   ]
  },
  {
   "cell_type": "code",
   "execution_count": null,
   "metadata": {},
   "outputs": [],
   "source": [
    "#Q13 Delete everything from synonyms_dic"
   ]
  },
  {
   "cell_type": "code",
   "execution_count": null,
   "metadata": {},
   "outputs": [],
   "source": [
    "#Q14 Print all values in synonyms_dic"
   ]
  },
  {
   "cell_type": "code",
   "execution_count": null,
   "metadata": {},
   "outputs": [],
   "source": [
    "#Q15 Convert the below two lists into dictionary\n",
    "Keys=[\"True\",\"False\"]\n",
    "Values=[1,0]"
   ]
  },
  {
   "cell_type": "code",
   "execution_count": null,
   "metadata": {},
   "outputs": [],
   "source": [
    "#Q16 Sum all the items in the following dictionary\n",
    "income={'Jan':1000,'Feb':1500,'Mar':980,'April':1000}"
   ]
  },
  {
   "cell_type": "code",
   "execution_count": null,
   "metadata": {},
   "outputs": [],
   "source": [
    "#Q17 Create the following dictionary encryption={10:\"hungry\", 101:\"am\", 110:\"I\", 1011:\",\" ,1101:\"eat\", 1001:\"want\", 111:\"to\"}\n",
    "# What should the the decryption of the following code \"110 101 10 1011 110 1001 111 1101\""
   ]
  }
 ],
 "metadata": {
  "kernelspec": {
   "display_name": "Python 3",
   "language": "python",
   "name": "python3"
  },
  "language_info": {
   "codemirror_mode": {
    "name": "ipython",
    "version": 3
   },
   "file_extension": ".py",
   "mimetype": "text/x-python",
   "name": "python",
   "nbconvert_exporter": "python",
   "pygments_lexer": "ipython3",
   "version": "3.8.5"
  }
 },
 "nbformat": 4,
 "nbformat_minor": 4
}
