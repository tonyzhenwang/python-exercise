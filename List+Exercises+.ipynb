{
 "cells": [
  {
   "cell_type": "code",
   "execution_count": 45,
   "metadata": {},
   "outputs": [
    {
     "name": "stdout",
     "output_type": "stream",
     "text": [
      "('Leul', 'Suha', 'Muhammad', 'Olaolusubomi', 'Saman', 'Sunint', 'Dami', 'Edward', 'Divya', 'Imara', 'Gaurav', 'Sidney', 'Chloe', 'Rasha', 'Mehrnaz', 'Sowjanya', 'Jerry', 'Winnie', 'Saloni', 'Akash', 'Adam', 'Temitope', 'Ajinkya', 'Riley', 'Santhiya', 'Romita', 'Gilmara', 'Ulan', 'Alka', 'Jainam', 'Pray', 'Tony')\n"
     ]
    }
   ],
   "source": [
    "#Q1 Create a tuple with all participant names in the JDA program\n",
    "tup1 = ('Leul', 'Suha', 'Muhammad', 'Olaolusubomi', 'Saman', \n",
    "        'Sunint', 'Dami', 'Edward', 'Divya', 'Imara', 'Gaurav', \n",
    "        'Sidney', 'Chloe', 'Rasha', 'Mehrnaz', 'Sowjanya', \n",
    "        'Jerry', 'Winnie', 'Saloni', 'Akash', 'Adam', 'Temitope', \n",
    "        'Ajinkya', 'Riley', 'Santhiya', 'Romita', 'Gilmara', \n",
    "        'Ulan', 'Alka', 'Jainam', 'Pray', 'Tony')\n",
    "print(tup1)"
   ]
  },
  {
   "cell_type": "code",
   "execution_count": 46,
   "metadata": {},
   "outputs": [
    {
     "name": "stdout",
     "output_type": "stream",
     "text": [
      "['Leul', 'Suha', 'Muhammad', 'Olaolusubomi', 'Saman', 'Sunint', 'Dami', 'Edward', 'Divya', 'Imara', 'Gaurav', 'Sidney', 'Chloe', 'Rasha', 'Mehrnaz', 'Sowjanya', 'Jerry', 'Winnie', 'Saloni', 'Akash', 'Adam', 'Temitope', 'Ajinkya', 'Riley', 'Santhiya', 'Romita', 'Gilmara', 'Ulan', 'Alka', 'Jainam', 'Pray', 'Tony']\n"
     ]
    }
   ],
   "source": [
    "#Q2 Convert the tuple into a list called pps_L\n",
    "pps_L = list(tup1)\n",
    "print(pps_L)"
   ]
  },
  {
   "cell_type": "code",
   "execution_count": 47,
   "metadata": {},
   "outputs": [
    {
     "data": {
      "text/plain": [
       "32"
      ]
     },
     "execution_count": 47,
     "metadata": {},
     "output_type": "execute_result"
    }
   ],
   "source": [
    "#Q3 What is the length of your list \n",
    "len(pps_L)"
   ]
  },
  {
   "cell_type": "code",
   "execution_count": 48,
   "metadata": {},
   "outputs": [
    {
     "name": "stdout",
     "output_type": "stream",
     "text": [
      "Olaolusubomi\n",
      "Sunint\n",
      "Mehrnaz\n",
      "Pray\n"
     ]
    }
   ],
   "source": [
    "#Q4 Find the values stored in indexes [3],[5],[14],[30],[38]\n",
    "list1 = [3,5,14,30]\n",
    "for l in list1:\n",
    "    print(pps_L[l])"
   ]
  },
  {
   "cell_type": "code",
   "execution_count": 49,
   "metadata": {},
   "outputs": [
    {
     "name": "stdout",
     "output_type": "stream",
     "text": [
      "False\n"
     ]
    }
   ],
   "source": [
    "#Q5 Check if \"Sarah\" is in the list\n",
    "print(\"Sarah\" in pps_L)"
   ]
  },
  {
   "cell_type": "code",
   "execution_count": 50,
   "metadata": {},
   "outputs": [
    {
     "name": "stdout",
     "output_type": "stream",
     "text": [
      "['Leul', 'Suha', 'Muhammad', 'Olaolusubomi', 'Saman', 'Sunint', 'Dami', 'Edward', 'Divya', 'Imara', 'Gaurav', 'Sidney', 'Chloe', 'Rasha', 'Mehrnaz', 'Sowjanya', 'Jerry', 'Winnie', 'Saloni', 'Akash', 'Adam', 'Temitope', 'Ajinkya', 'Riley', 'Santhiya', 'Romita', 'Gilmara', 'Ulan', 'Alka', 'Jainam', 'Pray', 'Tony', 'Sarah']\n"
     ]
    }
   ],
   "source": [
    "#Q6 Add \"Sarah\" to your list\n",
    "pps_L.append(\"Sarah\")\n",
    "print(pps_L)"
   ]
  },
  {
   "cell_type": "code",
   "execution_count": 51,
   "metadata": {},
   "outputs": [
    {
     "name": "stdout",
     "output_type": "stream",
     "text": [
      "False\n"
     ]
    }
   ],
   "source": [
    "#Q7 Check if \"Bashir\" is in the list\n",
    "print(\"Bashir\" in pps_L)"
   ]
  },
  {
   "cell_type": "code",
   "execution_count": 52,
   "metadata": {},
   "outputs": [
    {
     "name": "stdout",
     "output_type": "stream",
     "text": [
      "['Leul', 'Suha', 'Muhammad', 'Olaolusubomi', 'Saman', 'Sunint', 'Dami', 'Edward', 'Divya', 'Imara', 'Gaurav', 'Sidney', 'Chloe', 'Rasha', 'Mehrnaz', 'Sowjanya', 'Jerry', 'Winnie', 'Saloni', 'Akash', 'Adam', 'Temitope', 'Ajinkya', 'Riley', 'Santhiya', 'Romita', 'Gilmara', 'Ulan', 'Alka', 'Jainam', 'Pray', 'Tony', 'Sarah', 'Bashir']\n"
     ]
    }
   ],
   "source": [
    "#Q9 Add \"Bashir\" to your list\n",
    "pps_L.append(\"Bashir\")\n",
    "print(pps_L)"
   ]
  },
  {
   "cell_type": "code",
   "execution_count": 53,
   "metadata": {},
   "outputs": [
    {
     "name": "stdout",
     "output_type": "stream",
     "text": [
      "32\n"
     ]
    }
   ],
   "source": [
    "#Q10 Find the index of the element \"Sarah\" in the list\n",
    "print(pps_L.index(\"Sarah\"))"
   ]
  },
  {
   "cell_type": "code",
   "execution_count": 54,
   "metadata": {},
   "outputs": [
    {
     "name": "stdout",
     "output_type": "stream",
     "text": [
      "['Leul', 'Suha', 'Muhammad', 'Olaolusubomi', 'Saman', 'Sunint', 'Dami', 'Edward', 'Divya', 'Imara', 'Gaurav', 'Sidney', 'Chloe', 'Rasha', 'Mehrnaz', 'Sowjanya', 'Jerry', 'Winnie', 'Saloni', 'Akash', 'Adam', 'Temitope', 'Ajinkya', 'Riley', 'Santhiya', 'Romita', 'Gilmara', 'Ulan', 'Alka', 'Jainam', 'Pray', 'Tony', 'Instructor', 'Bashir']\n"
     ]
    }
   ],
   "source": [
    "#Q11 Change the value of the index in Q10 from \"Sarah\" to \"Instructor\"\n",
    "pps_L[pps_L.index(\"Sarah\")] = \"Instructor\"\n",
    "print(pps_L)"
   ]
  },
  {
   "cell_type": "code",
   "execution_count": 55,
   "metadata": {},
   "outputs": [
    {
     "name": "stdout",
     "output_type": "stream",
     "text": [
      "33\n"
     ]
    }
   ],
   "source": [
    "#Q12 Find the index of the element \"Bashir\" in the list\n",
    "print(pps_L.index(\"Bashir\"))"
   ]
  },
  {
   "cell_type": "code",
   "execution_count": 56,
   "metadata": {},
   "outputs": [
    {
     "name": "stdout",
     "output_type": "stream",
     "text": [
      "['Leul', 'Suha', 'Muhammad', 'Olaolusubomi', 'Saman', 'Sunint', 'Dami', 'Edward', 'Divya', 'Imara', 'Gaurav', 'Sidney', 'Chloe', 'Rasha', 'Mehrnaz', 'Sowjanya', 'Jerry', 'Winnie', 'Saloni', 'Akash', 'Adam', 'Temitope', 'Ajinkya', 'Riley', 'Santhiya', 'Romita', 'Gilmara', 'Ulan', 'Alka', 'Jainam', 'Pray', 'Tony', 'Instructor', 'Peer-Mentor']\n"
     ]
    }
   ],
   "source": [
    "#Q13 Change the value of the index in Q12 from \"Bashir\" to \"Peer-Mentor\"\n",
    "pps_L[pps_L.index(\"Bashir\")] = \"Peer-Mentor\"\n",
    "print(pps_L)"
   ]
  },
  {
   "cell_type": "code",
   "execution_count": null,
   "metadata": {},
   "outputs": [],
   "source": []
  },
  {
   "cell_type": "code",
   "execution_count": null,
   "metadata": {},
   "outputs": [],
   "source": []
  },
  {
   "cell_type": "code",
   "execution_count": null,
   "metadata": {},
   "outputs": [],
   "source": []
  }
 ],
 "metadata": {
  "kernelspec": {
   "display_name": "Python 3",
   "language": "python",
   "name": "python3"
  },
  "language_info": {
   "codemirror_mode": {
    "name": "ipython",
    "version": 3
   },
   "file_extension": ".py",
   "mimetype": "text/x-python",
   "name": "python",
   "nbconvert_exporter": "python",
   "pygments_lexer": "ipython3",
   "version": "3.8.5"
  }
 },
 "nbformat": 4,
 "nbformat_minor": 4
}
