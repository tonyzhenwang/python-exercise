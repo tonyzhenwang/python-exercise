{
 "cells": [
  {
   "cell_type": "code",
   "execution_count": null,
   "metadata": {},
   "outputs": [],
   "source": [
    "#Q1 Create a text file called mytxt.txt\n",
    "# Save the following content in the text file:\n",
    "# \"In this section, we will use Python's built-in open function to create a file object, and obtain the data from a \"txt\" file.\n",
    "# We will use Python's open function to get a file object. \n",
    "# We can apply a method to that object to read data from the file. We use the open function. \n",
    "# The first argument is the file path, the second parameter is the mode.\""
   ]
  },
  {
   "cell_type": "code",
   "execution_count": null,
   "metadata": {},
   "outputs": [],
   "source": [
    "#Q1 Write a Python program to read the entire mytxt file"
   ]
  },
  {
   "cell_type": "code",
   "execution_count": 1,
   "metadata": {},
   "outputs": [],
   "source": [
    "#Q2 Write a Python program to read last 3 lines of mytxt file"
   ]
  },
  {
   "cell_type": "code",
   "execution_count": null,
   "metadata": {},
   "outputs": [],
   "source": [
    "#Q3 Write a Python program to read last n lines of mytxt file [Hint: write a function]"
   ]
  },
  {
   "cell_type": "code",
   "execution_count": null,
   "metadata": {},
   "outputs": [],
   "source": [
    "#Q4 count the number of lines in mytxt file "
   ]
  },
  {
   "cell_type": "code",
   "execution_count": null,
   "metadata": {},
   "outputs": [],
   "source": [
    "#Q5 Write a Python program to generate 26 text files named A.txt, B.txt,C.txt ........ Z.txt"
   ]
  },
  {
   "cell_type": "code",
   "execution_count": null,
   "metadata": {},
   "outputs": [],
   "source": [
    "#Q6 Write a Python program to append \"End of file\" to mytxt file and display the text "
   ]
  },
  {
   "cell_type": "code",
   "execution_count": null,
   "metadata": {},
   "outputs": [],
   "source": [
    "#Q7 Write a Python program to remove newline characters from mytxt file"
   ]
  },
  {
   "cell_type": "code",
   "execution_count": null,
   "metadata": {},
   "outputs": [],
   "source": [
    "# Q8 Write a python program to find the longest word in mytxt file"
   ]
  },
  {
   "cell_type": "code",
   "execution_count": null,
   "metadata": {},
   "outputs": [],
   "source": [
    "#Q9  Write a Python program to count the frequency \"We\" in mytxt file"
   ]
  },
  {
   "cell_type": "code",
   "execution_count": null,
   "metadata": {},
   "outputs": [],
   "source": [
    "#Q10 Write a Python program to build a sign_Up and login forms for users. \n",
    "#Your program should validate/authenticate entered credentials for existing \n",
    "#users or create new accounts for new users\n",
    "\n",
    "#1 Create \"Credentials.txt\" file\n",
    "#2 Add the following information into your Credentials.txt file <Name, Password>\n",
    "    # Sarah,12ssr\n",
    "    # Lisa,pass\n",
    "    # Donna,D00N\n",
    "#3 Create login function that takes two inputs (name,password)\n",
    "    #3.1 Ask the user to enter their username and password\n",
    "    #3.2 search if the names exist in the Credentials.txt file\n",
    "        #3.2.1 if the name was found, check if the password is correct\n",
    "        #3.2.2 return \"Welcome <persons name> if the name and password were correct\"\n",
    "        #3.2.3 else return \"wrong name or password\"\n",
    "    #3.2 if the name doesn't exist return \"your name doesn't exist, please create a new account\"\n",
    "#4 Create sign_Up function that takes two inputs(newName,newPassword)\n",
    "    #Ask user to enter their name and password\n",
    "    #append the new information into the Credentials.txt file, follow the same format \"name,password\"\n",
    "#5 Test your program by logging in using the new account\n",
    "\n",
    "\n"
   ]
  },
  {
   "cell_type": "code",
   "execution_count": 27,
   "metadata": {},
   "outputs": [],
   "source": [
    "import os\n",
    "\n",
    "fileName = \"Credentials.txt\"\n",
    "\n",
    "if(not os.path.exists(fileName)):\n",
    "    writer = open(fileName, \"w\")\n",
    "    writer.write(\"Sarah,12ssr\\n\")\n",
    "    writer.write(\"Lisa,pass\\n\")\n",
    "    writer.write(\"Donna,D00N\\n\")\n",
    "    writer.close()"
   ]
  },
  {
   "cell_type": "code",
   "execution_count": 21,
   "metadata": {},
   "outputs": [],
   "source": [
    "def readDB(fileName):\n",
    "    database = {}\n",
    "\n",
    "    with open(fileName, \"r\") as reader:\n",
    "        credentials = reader.readlines()\n",
    "        for credential in credentials:\n",
    "            c = credential.split(\",\")\n",
    "            database[c[0]] = c[1].replace(\"\\n\", \"\")\n",
    "\n",
    "    return database"
   ]
  },
  {
   "cell_type": "code",
   "execution_count": 22,
   "metadata": {},
   "outputs": [],
   "source": [
    "def login(name, password):\n",
    "    database = readDB(fileName)\n",
    "    print(database)\n",
    "    if name in database:\n",
    "        if database[name] == password:\n",
    "            return \"Welcome \" + name\n",
    "        else:\n",
    "            return \"Wrong name or password\"\n",
    "    else:\n",
    "        return \"Your name doesn't exist, please create a new account\""
   ]
  },
  {
   "cell_type": "code",
   "execution_count": 31,
   "metadata": {},
   "outputs": [
    {
     "name": "stdout",
     "output_type": "stream",
     "text": [
      "Enter username\n",
      "Tony\n",
      "Enter password\n",
      "123\n",
      "{'Sarah': '12ssr', 'Lisa': 'pass', 'Donna': 'D00N', 'Tony': '123'}\n"
     ]
    },
    {
     "data": {
      "text/plain": [
       "'Welcome Tony'"
      ]
     },
     "execution_count": 31,
     "metadata": {},
     "output_type": "execute_result"
    }
   ],
   "source": [
    "print(\"Enter username\")\n",
    "username = input()\n",
    "print(\"Enter password\")\n",
    "password = input()\n",
    "\n",
    "login(username, password)"
   ]
  },
  {
   "cell_type": "code",
   "execution_count": 26,
   "metadata": {},
   "outputs": [],
   "source": [
    "def signup(newName, newPassword):\n",
    "    database = readDB(fileName)\n",
    "    if newName in database:\n",
    "        return \"Username already exists. Account creation failed\"\n",
    "    else:\n",
    "        database[newName] = newPassword\n",
    "        print(database)\n",
    "        lst = list(database.keys())\n",
    "        print(lst)\n",
    "        with open(fileName, \"w\") as writer:\n",
    "            for elem in lst:\n",
    "                writer.write(elem + \",\" + database[elem] + \"\\n\")\n",
    "            return \"New account created\""
   ]
  },
  {
   "cell_type": "code",
   "execution_count": 30,
   "metadata": {},
   "outputs": [
    {
     "name": "stdout",
     "output_type": "stream",
     "text": [
      "Sign up for a new account\n",
      "New username\n",
      "Tony\n",
      "New password\n",
      "123\n",
      "{'Sarah': '12ssr', 'Lisa': 'pass', 'Donna': 'D00N', 'Tony': '123'}\n",
      "['Sarah', 'Lisa', 'Donna', 'Tony']\n"
     ]
    },
    {
     "data": {
      "text/plain": [
       "'New account created'"
      ]
     },
     "execution_count": 30,
     "metadata": {},
     "output_type": "execute_result"
    }
   ],
   "source": [
    "print(\"Sign up for a new account\")\n",
    "print(\"New username\")\n",
    "newUsername = input()\n",
    "print(\"New password\")\n",
    "newPassword = input()\n",
    "\n",
    "signup(newUsername, newPassword)"
   ]
  },
  {
   "cell_type": "code",
   "execution_count": null,
   "metadata": {},
   "outputs": [],
   "source": []
  }
 ],
 "metadata": {
  "kernelspec": {
   "display_name": "Python 3",
   "language": "python",
   "name": "python3"
  },
  "language_info": {
   "codemirror_mode": {
    "name": "ipython",
    "version": 3
   },
   "file_extension": ".py",
   "mimetype": "text/x-python",
   "name": "python",
   "nbconvert_exporter": "python",
   "pygments_lexer": "ipython3",
   "version": "3.8.5"
  }
 },
 "nbformat": 4,
 "nbformat_minor": 4
}
