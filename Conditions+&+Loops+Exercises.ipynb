{
 "cells": [
  {
   "cell_type": "code",
   "execution_count": 60,
   "metadata": {},
   "outputs": [
    {
     "name": "stdout",
     "output_type": "stream",
     "text": [
      "Sum of 20 and 40 is 60\n"
     ]
    }
   ],
   "source": [
    "#Q1 Given two integer numbers. If any of the numbers are greater than 50 return their product, else return their sum\n",
    "number1= 20\n",
    "number2= 40\n",
    "if number1>50 or number2>50:\n",
    "    print(\"Product of\", number1, \"and\", number2, \"is\", number1*number2)\n",
    "else:\n",
    "    print(\"Sum of\", number1, \"and\", number2, \"is\", number1+number2)"
   ]
  },
  {
   "cell_type": "code",
   "execution_count": 61,
   "metadata": {},
   "outputs": [
    {
     "name": "stdout",
     "output_type": "stream",
     "text": [
      "True First and last elements are equal\n"
     ]
    }
   ],
   "source": [
    "#Q2 Given a list of numbers, return True if first and last number of a list is same\n",
    "#list=[1,2,5,4,1]\n",
    "list1=[1,2,5,4,1]\n",
    "if list1[0] == list1[len(list1)-1]:\n",
    "    print(True, \"First and last elements are equal\")\n",
    "else:\n",
    "    print(False, \"First and last elements are not equal\")"
   ]
  },
  {
   "cell_type": "code",
   "execution_count": 62,
   "metadata": {},
   "outputs": [
    {
     "name": "stdout",
     "output_type": "stream",
     "text": [
      "3\n",
      "5\n",
      "7\n",
      "9\n",
      "11\n",
      "13\n",
      "15\n",
      "17\n",
      "19\n"
     ]
    }
   ],
   "source": [
    "#Q3 Given a range of the first 10 numbers[1:10], Iterate from the start number to the end number, \n",
    "#and In each iteration print the sum of the current number and previous number\n",
    "for i in range(1,10):\n",
    "    print(i+i+1)"
   ]
  },
  {
   "cell_type": "code",
   "execution_count": 63,
   "metadata": {},
   "outputs": [
    {
     "name": "stdout",
     "output_type": "stream",
     "text": [
      "NoeCnd\n",
      "index\tcharacter\n",
      "0 \t N\n",
      "2 \t o\n",
      "4 \t e\n",
      "6 \t C\n",
      "8 \t n\n",
      "10 \t d\n"
     ]
    }
   ],
   "source": [
    "#Q4 Given a string name, display only those characters which are present at an even index number\n",
    "name=\"NPowerCanada\"\n",
    "print(name[0::2])\n",
    "print(\"index\\tcharacter\")\n",
    "for i in range(0, len(name)-1):\n",
    "    if(i % 2 == 0):\n",
    "        print(i, \"\\t\",name[i])"
   ]
  },
  {
   "cell_type": "code",
   "execution_count": 64,
   "metadata": {},
   "outputs": [
    {
     "name": "stdout",
     "output_type": "stream",
     "text": [
      "ours\n"
     ]
    }
   ],
   "source": [
    "#Q5 Given a string oldString and an integer number n, \n",
    "#remove characters from a string starting from zero up to n and return a newString\n",
    "# oldString=\"PythonCourse\"\n",
    "#n=6\n",
    "\n",
    "oldString=\"PythonCourse\"\n",
    "n=6\n",
    "newString = \"\"\n",
    "for i in range(0,len(oldString)-1):\n",
    "    if(i>6):\n",
    "        newString = newString + oldString[i]\n",
    "print(newString)"
   ]
  },
  {
   "cell_type": "code",
   "execution_count": 65,
   "metadata": {},
   "outputs": [
    {
     "name": "stdout",
     "output_type": "stream",
     "text": [
      "*\n",
      "**\n",
      "***\n",
      "****\n"
     ]
    }
   ],
   "source": [
    "#Q6 Print the follwoing pattern\n",
    "\n",
    "#*\n",
    "#**\n",
    "#***\n",
    "#****\n",
    "i = 1\n",
    "while i <=4:\n",
    "    print(\"*\" * i)\n",
    "    i=i+1"
   ]
  },
  {
   "cell_type": "code",
   "execution_count": 66,
   "metadata": {},
   "outputs": [
    {
     "name": "stdout",
     "output_type": "stream",
     "text": [
      "[60, 50, 70, 90]\n"
     ]
    }
   ],
   "source": [
    "#Q7 Reverse the following list using for loop\n",
    "#list1=[90,70,50,60]\n",
    "list1=[90,70,50,60]\n",
    "for i in range(0,int((len(list1)+1)/2)):\n",
    "    #print(list1[i], list1[len(list1)-1-i])\n",
    "    elem1 = list1[i]\n",
    "    elem2 = list1[len(list1)-1-i]\n",
    "    list1[i] = elem2\n",
    "    list1[len(list1)-1-i] = elem1\n",
    "print(list1)"
   ]
  },
  {
   "cell_type": "code",
   "execution_count": 67,
   "metadata": {},
   "outputs": [
    {
     "name": "stdout",
     "output_type": "stream",
     "text": [
      "-10\n",
      "-9\n",
      "-8\n",
      "-7\n",
      "-6\n",
      "-5\n",
      "-4\n",
      "-3\n",
      "-2\n",
      "-1\n"
     ]
    }
   ],
   "source": [
    "#Q8 Display numbers from -10 to -1 using for loop [hint use range method]\n",
    "for i in range(-10, 0):\n",
    "    print(i)"
   ]
  },
  {
   "cell_type": "code",
   "execution_count": null,
   "metadata": {},
   "outputs": [],
   "source": []
  }
 ],
 "metadata": {
  "kernelspec": {
   "display_name": "Python 3",
   "language": "python",
   "name": "python3"
  },
  "language_info": {
   "codemirror_mode": {
    "name": "ipython",
    "version": 3
   },
   "file_extension": ".py",
   "mimetype": "text/x-python",
   "name": "python",
   "nbconvert_exporter": "python",
   "pygments_lexer": "ipython3",
   "version": "3.8.5"
  }
 },
 "nbformat": 4,
 "nbformat_minor": 4
}
