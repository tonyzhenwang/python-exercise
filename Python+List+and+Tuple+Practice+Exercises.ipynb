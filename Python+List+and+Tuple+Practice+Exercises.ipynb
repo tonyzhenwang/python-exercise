{
 "cells": [
  {
   "cell_type": "code",
   "execution_count": 1,
   "metadata": {},
   "outputs": [
    {
     "name": "stdout",
     "output_type": "stream",
     "text": [
      "('NPower', 'JDA', 'Tuesday', 30, 3, 2021)\n"
     ]
    }
   ],
   "source": [
    "#Q1 Create myTuple tuple with the follwoing values (\"NPower\",\"JDA\",\"Tuesday\",30,3,2021)\n",
    "myTuple = (\"NPower\",\"JDA\",\"Tuesday\",30,3,2021)\n",
    "print(myTuple)"
   ]
  },
  {
   "cell_type": "code",
   "execution_count": 3,
   "metadata": {},
   "outputs": [
    {
     "name": "stdout",
     "output_type": "stream",
     "text": [
      "<class 'tuple'>\n"
     ]
    }
   ],
   "source": [
    "#Q2 What is the type of myTuple\n",
    "print(type(myTuple))\n",
    "# type of tuple"
   ]
  },
  {
   "cell_type": "code",
   "execution_count": 4,
   "metadata": {},
   "outputs": [
    {
     "name": "stdout",
     "output_type": "stream",
     "text": [
      "6\n"
     ]
    }
   ],
   "source": [
    "#Q3 What is the length of myTuple\n",
    "print(len(myTuple))\n",
    "# 6"
   ]
  },
  {
   "cell_type": "code",
   "execution_count": 5,
   "metadata": {},
   "outputs": [
    {
     "name": "stdout",
     "output_type": "stream",
     "text": [
      "NPower\n",
      "JDA\n",
      "Tuesday\n",
      "30\n",
      "3\n",
      "2021\n"
     ]
    }
   ],
   "source": [
    "#Q4 print the values in each index #Use regular indexing \n",
    "print(myTuple[0])\n",
    "print(myTuple[1])\n",
    "print(myTuple[2])\n",
    "print(myTuple[3])\n",
    "print(myTuple[4])\n",
    "print(myTuple[5])"
   ]
  },
  {
   "cell_type": "code",
   "execution_count": 6,
   "metadata": {},
   "outputs": [
    {
     "name": "stdout",
     "output_type": "stream",
     "text": [
      "NPower\n",
      "JDA\n",
      "Tuesday\n",
      "30\n",
      "3\n",
      "2021\n"
     ]
    }
   ],
   "source": [
    "#Q5 print the values in each index #Use negative indexing \n",
    "print(myTuple[-6])\n",
    "print(myTuple[-5])\n",
    "print(myTuple[-4])\n",
    "print(myTuple[-3])\n",
    "print(myTuple[-2])\n",
    "print(myTuple[-1])"
   ]
  },
  {
   "cell_type": "code",
   "execution_count": 7,
   "metadata": {},
   "outputs": [
    {
     "name": "stdout",
     "output_type": "stream",
     "text": [
      "<class 'str'>\n",
      "<class 'str'>\n",
      "<class 'str'>\n",
      "<class 'int'>\n",
      "<class 'int'>\n",
      "<class 'int'>\n"
     ]
    }
   ],
   "source": [
    "#Q6 what is the type of each valueprint(myTuple[0])\n",
    "print(type(myTuple[0]))\n",
    "print(type(myTuple[1]))\n",
    "print(type(myTuple[2]))\n",
    "print(type(myTuple[3]))\n",
    "print(type(myTuple[4]))\n",
    "print(type(myTuple[5]))"
   ]
  },
  {
   "cell_type": "code",
   "execution_count": 12,
   "metadata": {},
   "outputs": [
    {
     "name": "stdout",
     "output_type": "stream",
     "text": [
      "NPower\n",
      "JDA\n",
      "Tuesday\n",
      "30\n",
      "3\n",
      "2021\n"
     ]
    }
   ],
   "source": [
    "#Q7 unpack myTuple in the follwoeing variables name,program,dayName,month,day,year accordingly \n",
    "# print the variables \n",
    "name,program,dayName,month,day,year = myTuple\n",
    "print(name)\n",
    "print(program)\n",
    "print(dayName)\n",
    "print(month)\n",
    "print(day)\n",
    "print(year)"
   ]
  },
  {
   "cell_type": "code",
   "execution_count": 62,
   "metadata": {},
   "outputs": [
    {
     "name": "stdout",
     "output_type": "stream",
     "text": [
      "Jerry\n",
      "2\n",
      "89\n",
      "30\n",
      "3\n",
      "2021\n"
     ]
    }
   ],
   "source": [
    "#Q8 unpack myTuple2 in the follwoeing variablesname,program,dayName.\n",
    "# What will happen to variables (name,program,dayName) and (month,day,year)\n",
    "myTuple2=(\"Jerry\",2,89)\n",
    "name,program,dayName = myTuple2\n",
    "# name, program, dayName will be changed to hold values from myTuple2\n",
    "# month, day, year will stay the same \n",
    "print(name)\n",
    "print(program)\n",
    "print(dayName)\n",
    "print(month)\n",
    "print(day)\n",
    "print(year)"
   ]
  },
  {
   "cell_type": "code",
   "execution_count": 13,
   "metadata": {},
   "outputs": [
    {
     "name": "stdout",
     "output_type": "stream",
     "text": [
      "Type a <class 'str'>\n",
      "Jerry 2 89\n",
      "<class 'str'>\n",
      "Ulan\n",
      "Leul\n"
     ]
    }
   ],
   "source": [
    "# Note the following\n",
    "Tuple1=(\"Jerry\",2,89) #This is a tuple with 3 elements \n",
    "Tuple2=(\"Ulan\")#This is a tuple with 1 element\n",
    "test=\"Leul\" #This is a VARIABLE with string value\n",
    "\n",
    "a,b,c=Tuple1\n",
    "print(\"Type a\",type(a))\n",
    "print(a,b,c)\n",
    "\n",
    "d=Tuple2\n",
    "print(type(d))\n",
    "print(d)\n",
    "\n",
    "e=test\n",
    "print(e)"
   ]
  },
  {
   "cell_type": "code",
   "execution_count": 14,
   "metadata": {},
   "outputs": [
    {
     "name": "stdout",
     "output_type": "stream",
     "text": [
      "(1, 2, 3)\n",
      "(4, 5, 6)\n"
     ]
    },
    {
     "ename": "TypeError",
     "evalue": "'tuple' object does not support item assignment",
     "output_type": "error",
     "traceback": [
      "\u001b[0;31m---------------------------------------------------------------------------\u001b[0m",
      "\u001b[0;31mTypeError\u001b[0m                                 Traceback (most recent call last)",
      "\u001b[0;32m<ipython-input-14-a5ae625bca74>\u001b[0m in \u001b[0;36m<module>\u001b[0;34m\u001b[0m\n\u001b[1;32m     11\u001b[0m \u001b[0;31m#But we can't change or edit a value for the existing tuple\u001b[0m\u001b[0;34m\u001b[0m\u001b[0;34m\u001b[0m\u001b[0;34m\u001b[0m\u001b[0m\n\u001b[1;32m     12\u001b[0m \u001b[0;34m\u001b[0m\u001b[0m\n\u001b[0;32m---> 13\u001b[0;31m \u001b[0mtestTuple\u001b[0m\u001b[0;34m[\u001b[0m\u001b[0;36m0\u001b[0m\u001b[0;34m]\u001b[0m\u001b[0;34m=\u001b[0m\u001b[0;36m6\u001b[0m \u001b[0;31m#ERROR 'tuple' object does not support item assignment\u001b[0m\u001b[0;34m\u001b[0m\u001b[0;34m\u001b[0m\u001b[0m\n\u001b[0m\u001b[1;32m     14\u001b[0m \u001b[0;34m\u001b[0m\u001b[0m\n",
      "\u001b[0;31mTypeError\u001b[0m: 'tuple' object does not support item assignment"
     ]
    }
   ],
   "source": [
    "#Tuples are immutable\n",
    "#we can always make the testTuple variable reference a new tuple in the memory \n",
    "#and holding different information\n",
    "\n",
    "testTuple=(1,2,3)\n",
    "print(testTuple)\n",
    "\n",
    "testTuple=(4,5,6)\n",
    "print(testTuple)\n",
    "\n",
    "#But we can't change or edit a value for the existing tuple\n",
    "\n",
    "testTuple[0]=6 #ERROR 'tuple' object does not support item assignment\n",
    "\n"
   ]
  },
  {
   "cell_type": "code",
   "execution_count": 19,
   "metadata": {},
   "outputs": [
    {
     "name": "stdout",
     "output_type": "stream",
     "text": [
      "('NPower', 'JDA', 'Tuesday', 30, 3, 2021)\n",
      "(2021, 3, 30, 'Tuesday', 'JDA', 'NPower')\n",
      "('NPower', 'JDA', 'Tuesday', 30, 3, 2021)\n"
     ]
    }
   ],
   "source": [
    "#Q9 Reverse myTuple, output should looks like (\"NPower\",\"JDA\",\"Tuesday\",30,3,2021)\n",
    "print(myTuple)\n",
    "reverse_myTuple = tuple(reversed(myTuple))\n",
    "print(reverse_myTuple)\n",
    "re_reverse_myTuple = reverse_myTuple[::-1]\n",
    "print(re_reverse_myTuple)"
   ]
  },
  {
   "cell_type": "code",
   "execution_count": 20,
   "metadata": {},
   "outputs": [
    {
     "name": "stdout",
     "output_type": "stream",
     "text": [
      "(('Coursera', 'course', 6), ('week', (2, 'Lists', 'Tuple')))\n"
     ]
    }
   ],
   "source": [
    "#Q10 Create nestedTuple=((\"Coursera\",\"course\",6),(\"week\",(2,\"Lists\",\"Tuple\")))\n",
    "nestedTuple=((\"Coursera\",\"course\",6),(\"week\",(2,\"Lists\",\"Tuple\")))\n",
    "print(nestedTuple)"
   ]
  },
  {
   "cell_type": "code",
   "execution_count": 21,
   "metadata": {},
   "outputs": [
    {
     "name": "stdout",
     "output_type": "stream",
     "text": [
      "(('week', (2, 'Lists', 'Tuple')),)\n"
     ]
    }
   ],
   "source": [
    "#Q11 What is the output of nestedTuple[1:2]\n",
    "print(nestedTuple[1:2])\n",
    "# (('week', (2, 'Lists', 'Tuple')),)"
   ]
  },
  {
   "cell_type": "code",
   "execution_count": 25,
   "metadata": {},
   "outputs": [
    {
     "name": "stdout",
     "output_type": "stream",
     "text": [
      "Coursera\n",
      "course\n",
      "6\n",
      "week\n",
      "2\n",
      "Lists\n",
      "Tuple\n"
     ]
    }
   ],
   "source": [
    "#Q12 print each element in the nestedTuple\n",
    "print(nestedTuple[0][0])\n",
    "print(nestedTuple[0][1])\n",
    "print(nestedTuple[0][2])\n",
    "print(nestedTuple[1][0])\n",
    "print(nestedTuple[1][1][0])\n",
    "print(nestedTuple[1][1][1])\n",
    "print(nestedTuple[1][1][2])"
   ]
  },
  {
   "cell_type": "code",
   "execution_count": 26,
   "metadata": {},
   "outputs": [
    {
     "name": "stdout",
     "output_type": "stream",
     "text": [
      "(2, 'Lists', 'Tuple')\n"
     ]
    }
   ],
   "source": [
    "#Q13 Access (2,\"Lists\",\"Tuple\") from nestedTuple\n",
    "print(nestedTuple[1][1])"
   ]
  },
  {
   "cell_type": "code",
   "execution_count": 27,
   "metadata": {},
   "outputs": [
    {
     "name": "stdout",
     "output_type": "stream",
     "text": [
      "Lists\n"
     ]
    }
   ],
   "source": [
    "#Q14 Access \"Lists\" from nestedTuple\n",
    "print(nestedTuple[1][1][1])"
   ]
  },
  {
   "cell_type": "code",
   "execution_count": 28,
   "metadata": {},
   "outputs": [
    {
     "name": "stdout",
     "output_type": "stream",
     "text": [
      "Tuple\n"
     ]
    }
   ],
   "source": [
    "#Q15 Access \"Tuple\" from nestedTuple\n",
    "print(nestedTuple[1][1][2])"
   ]
  },
  {
   "cell_type": "code",
   "execution_count": 29,
   "metadata": {},
   "outputs": [
    {
     "name": "stdout",
     "output_type": "stream",
     "text": [
      "course\n"
     ]
    }
   ],
   "source": [
    "#Q16 Access \"course\" from nestedTuple\n",
    "print(nestedTuple[0][1])"
   ]
  },
  {
   "cell_type": "code",
   "execution_count": 63,
   "metadata": {},
   "outputs": [
    {
     "name": "stdout",
     "output_type": "stream",
     "text": [
      "('NPower', 'JDA', 'Tuesday', 30, 3, 2021, ('Coursera', 'course', 6), ('week', (2, 'Lists', 'Tuple')))\n"
     ]
    }
   ],
   "source": [
    "#Q17 Concatenate myTuple with nestedTuple\n",
    "myTuple = myTuple + nestedTuple\n",
    "print(myTuple)"
   ]
  },
  {
   "cell_type": "code",
   "execution_count": 64,
   "metadata": {},
   "outputs": [
    {
     "name": "stdout",
     "output_type": "stream",
     "text": [
      "('NPower', 'JDA', 'Tuesday', 30, 3, 2021, ('Coursera', 'course', 6), ('week', (2, 'Lists', 'Tuple')), 'Tony')\n"
     ]
    }
   ],
   "source": [
    "#Q18 add your name to the tuple\n",
    "myTuple = myTuple + (\"Tony\",)\n",
    "print(myTuple)"
   ]
  },
  {
   "cell_type": "code",
   "execution_count": 65,
   "metadata": {},
   "outputs": [
    {
     "name": "stdout",
     "output_type": "stream",
     "text": [
      "False\n"
     ]
    }
   ],
   "source": [
    "#Q19 check whether Coursera exists within a myTuple\n",
    "\n",
    "# NOTE in doesn't work properly with nested tuples # Wrong output\n",
    "print(\"Coursera\" in myTuple)"
   ]
  },
  {
   "cell_type": "code",
   "execution_count": 66,
   "metadata": {},
   "outputs": [
    {
     "name": "stdout",
     "output_type": "stream",
     "text": [
      "True\n"
     ]
    }
   ],
   "source": [
    "#Q20 check whether an element exists within a testTuple\n",
    "print(bool(len(testTuple))) # this checks if the tuple is non-empty or not"
   ]
  },
  {
   "cell_type": "code",
   "execution_count": 67,
   "metadata": {},
   "outputs": [
    {
     "name": "stdout",
     "output_type": "stream",
     "text": [
      "1\n"
     ]
    }
   ],
   "source": [
    "#Q21 Find the index of JDA in myTuple\n",
    "\n",
    "\n",
    "# Find the index of 'Coursera' in myTuple\n",
    "# NOTE index doesn't work properly with nested tuples # Wrong output\n",
    "\n",
    "\n",
    "print(myTuple.index(\"JDA\"))\n",
    "# 1"
   ]
  },
  {
   "cell_type": "code",
   "execution_count": 68,
   "metadata": {},
   "outputs": [
    {
     "name": "stdout",
     "output_type": "stream",
     "text": [
      "Tony\n"
     ]
    }
   ],
   "source": [
    "#Q22 print index 8 from myTuple\n",
    "print(myTuple[8])\n",
    "# error"
   ]
  },
  {
   "cell_type": "code",
   "execution_count": 71,
   "metadata": {},
   "outputs": [
    {
     "name": "stdout",
     "output_type": "stream",
     "text": [
      "('NPower', 'JDA', 'Tuesday', 30, 3, 2021, ('Coursera', 'course', 6), ('week', (2, 'Lists', 'Tuple')), 'Tony')\n",
      "30\n",
      "2021\n"
     ]
    }
   ],
   "source": [
    "#Q23 Get the 4th element and 4th element from last of a myTuple\n",
    "print(myTuple[3])\n",
    "print(myTuple[-4])"
   ]
  },
  {
   "cell_type": "code",
   "execution_count": 70,
   "metadata": {},
   "outputs": [
    {
     "name": "stdout",
     "output_type": "stream",
     "text": [
      "0\n"
     ]
    }
   ],
   "source": [
    "#Q24 Find how many times 27 appeared in the tuple [Hint: Use method count()]\n",
    "print(myTuple.count(27))\n",
    "# 0"
   ]
  },
  {
   "cell_type": "code",
   "execution_count": null,
   "metadata": {},
   "outputs": [],
   "source": []
  }
 ],
 "metadata": {
  "kernelspec": {
   "display_name": "Python 3",
   "language": "python",
   "name": "python3"
  },
  "language_info": {
   "codemirror_mode": {
    "name": "ipython",
    "version": 3
   },
   "file_extension": ".py",
   "mimetype": "text/x-python",
   "name": "python",
   "nbconvert_exporter": "python",
   "pygments_lexer": "ipython3",
   "version": "3.8.5"
  }
 },
 "nbformat": 4,
 "nbformat_minor": 4
}
